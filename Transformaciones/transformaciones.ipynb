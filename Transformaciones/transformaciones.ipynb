{
 "cells": [
  {
   "cell_type": "code",
   "execution_count": 13,
   "metadata": {},
   "outputs": [],
   "source": [
    "import pandas as pd\n",
    "import datetime as dt"
   ]
  },
  {
   "cell_type": "code",
   "execution_count": 14,
   "metadata": {},
   "outputs": [],
   "source": [
    "#Subimos los datos con pandas\n",
    "disney_df=pd.read_csv(r'Datasets\\disney_plus_titles-score.csv')\n",
    "amazon_df=pd.read_csv(r'Datasets\\amazon_prime_titles-score.csv')\n",
    "hulu_df=pd.read_csv(r'Datasets\\hulu_titles-score (2).csv')\n",
    "netflix_df=pd.read_csv(r'Datasets\\netflix_titles-score.csv')"
   ]
  },
  {
   "cell_type": "code",
   "execution_count": 15,
   "metadata": {},
   "outputs": [],
   "source": [
    "#Creamos una funcion para el primer punto\n",
    "def crear_id(tabla):                 \n",
    "    tabla.insert(loc=0,column='id',value=0)#añadimos la columna 'id' a cada tabla\n",
    "    for i in range(0,len(tabla)):                                       #identificamos cada elemento de la columna 'id' y registramos en ella\n",
    "        tabla['id'][i]=tabla['title'][i][0].lower()+tabla['show_id'][i] #la letra inicial de la columna 'title' en minuscula mas el elemento\n",
    "                                                                        #de la columna 'show_id' completo "
   ]
  },
  {
   "cell_type": "code",
   "execution_count": 16,
   "metadata": {},
   "outputs": [
    {
     "name": "stderr",
     "output_type": "stream",
     "text": [
      "C:\\Users\\gualas\\AppData\\Local\\Temp\\ipykernel_21300\\4158516915.py:5: SettingWithCopyWarning: \n",
      "A value is trying to be set on a copy of a slice from a DataFrame\n",
      "\n",
      "See the caveats in the documentation: https://pandas.pydata.org/pandas-docs/stable/user_guide/indexing.html#returning-a-view-versus-a-copy\n",
      "  tabla['id'][i]=tabla['title'][i][0].lower()+tabla['show_id'][i] #la letra inicial de la columna 'title' en minuscula mas el elemento\n",
      "C:\\Users\\gualas\\AppData\\Local\\Temp\\ipykernel_21300\\4158516915.py:5: SettingWithCopyWarning: \n",
      "A value is trying to be set on a copy of a slice from a DataFrame\n",
      "\n",
      "See the caveats in the documentation: https://pandas.pydata.org/pandas-docs/stable/user_guide/indexing.html#returning-a-view-versus-a-copy\n",
      "  tabla['id'][i]=tabla['title'][i][0].lower()+tabla['show_id'][i] #la letra inicial de la columna 'title' en minuscula mas el elemento\n",
      "C:\\Users\\gualas\\AppData\\Local\\Temp\\ipykernel_21300\\4158516915.py:5: SettingWithCopyWarning: \n",
      "A value is trying to be set on a copy of a slice from a DataFrame\n",
      "\n",
      "See the caveats in the documentation: https://pandas.pydata.org/pandas-docs/stable/user_guide/indexing.html#returning-a-view-versus-a-copy\n",
      "  tabla['id'][i]=tabla['title'][i][0].lower()+tabla['show_id'][i] #la letra inicial de la columna 'title' en minuscula mas el elemento\n",
      "C:\\Users\\gualas\\AppData\\Local\\Temp\\ipykernel_21300\\4158516915.py:5: SettingWithCopyWarning: \n",
      "A value is trying to be set on a copy of a slice from a DataFrame\n",
      "\n",
      "See the caveats in the documentation: https://pandas.pydata.org/pandas-docs/stable/user_guide/indexing.html#returning-a-view-versus-a-copy\n",
      "  tabla['id'][i]=tabla['title'][i][0].lower()+tabla['show_id'][i] #la letra inicial de la columna 'title' en minuscula mas el elemento\n"
     ]
    }
   ],
   "source": [
    "crear_id(netflix_df) #aplicamos a cada nuestra primera funcion a cada dataframe\n",
    "crear_id(amazon_df)\n",
    "crear_id(hulu_df)\n",
    "crear_id(disney_df)"
   ]
  },
  {
   "cell_type": "code",
   "execution_count": 17,
   "metadata": {},
   "outputs": [],
   "source": [
    "#Creamos una funcion para el segundo punto\n",
    "def reemplazo_G(tabla):\n",
    "    tabla['rating'].fillna('G',inplace=True) #hacemos un recorrido de cada dataframe reemplazando en la columna 'rating' los valores nulos\n",
    "                                                    #por la letra 'G' "
   ]
  },
  {
   "cell_type": "code",
   "execution_count": 18,
   "metadata": {},
   "outputs": [],
   "source": [
    "reemplazo_G(netflix_df) #aplicamos la segunda funcion en cada dataframe\n",
    "reemplazo_G(amazon_df)\n",
    "reemplazo_G(hulu_df)\n",
    "reemplazo_G(disney_df)"
   ]
  },
  {
   "cell_type": "code",
   "execution_count": 19,
   "metadata": {},
   "outputs": [],
   "source": [
    "#Creamos una funcion para el tercer punto\n",
    "def cambio_formato(tabla):                #Esta funcion consiste en cambiar el formato de fecha de la columna 'date_added'\n",
    "    for i in range(0,len(tabla)):\n",
    "        if type(tabla['date_added'][i])==float or tabla['date_added'][i]=='nan' : #al cambiar el formato evitamos datos nulos para evitar errores\n",
    "                pass\n",
    "        else:\n",
    "            x=dt.datetime.strptime(tabla['date_added'][i].strip(),'%B %d, %Y')    #a cada valor aplicamos strip() para eliminar espacios\n",
    "            tabla['date_added'][i]=x.strftime('%Y-%m-%d')                         #con la ayuda de la libreria datetime reconocemos cada\n",
    "                                                                                  #fecha con el formato '%B %d, %Y' y la cambiamos a '%Y-%m-%d'"
   ]
  },
  {
   "cell_type": "code",
   "execution_count": 20,
   "metadata": {},
   "outputs": [
    {
     "name": "stderr",
     "output_type": "stream",
     "text": [
      "C:\\Users\\gualas\\AppData\\Local\\Temp\\ipykernel_21300\\1088290054.py:8: SettingWithCopyWarning: \n",
      "A value is trying to be set on a copy of a slice from a DataFrame\n",
      "\n",
      "See the caveats in the documentation: https://pandas.pydata.org/pandas-docs/stable/user_guide/indexing.html#returning-a-view-versus-a-copy\n",
      "  tabla['date_added'][i]=x.strftime('%Y-%m-%d')                         #con la ayuda de la libreria datetime reconocemos cada\n"
     ]
    }
   ],
   "source": [
    "cambio_formato(hulu_df) #Aplicamos la tercera funcion\n",
    "cambio_formato(disney_df)\n",
    "cambio_formato(netflix_df)\n",
    "cambio_formato(amazon_df)"
   ]
  },
  {
   "cell_type": "code",
   "execution_count": 21,
   "metadata": {},
   "outputs": [],
   "source": [
    "#Creamos una funcion para el cuarto punto. Pero no la aplicaremos hasta el final de todos los puntos.\n",
    "def minuscula(tabla):       \n",
    "    for i in tabla.columns.values:                  #Hacemos una iteracion de cada valor de cada columna de cada dataframe \n",
    "        tabla[i]=tabla[i].astype(str).str.lower()   #y aplicamos el metodo lower() para que cada uno de estos este en minuscula\n",
    "    \n"
   ]
  },
  {
   "cell_type": "code",
   "execution_count": 22,
   "metadata": {},
   "outputs": [],
   "source": [
    "#Creamos la ultima funcion para quinto punto\n",
    "def duracion(tabla):\n",
    "    tabla.insert(loc=11,column='duration_int',value=0)                          #Esta funcion consiste en agregar 2 columnas a cada dataframe\n",
    "    tabla.insert(loc=12,column='duration_type',value=0)                         #que contendran informacion obtenida de una columna especifica\n",
    "    for i in range(0,len(tabla)):                                               \n",
    "        if type(tabla['duration'][i])==float or tabla['duration'][i]=='nan':    #Buscamos valores nulos para pasar de largo de ellos\n",
    "            pass\n",
    "        else:\n",
    "            a = tabla['duration'][i].split()                                    #De la columna 'duration' dividimos la informacion con el \n",
    "            tabla['duration_int'][i]=a[0]                                       #metodo split(), cada parte de esta division ira a las\n",
    "            if a[1]=='Seasons':                                                 #columnas creadas. \n",
    "                tabla['duration_type'][i]='Season'                              #En caso encuentre la palabra 'Seasons' sera remplazada \n",
    "            else:                                                               #por su singular 'Season', caso contrario seguira escribiendo\n",
    "                tabla['duration_type'][i]=a[1]                                  #la informacion en cada columna"
   ]
  },
  {
   "cell_type": "code",
   "execution_count": 23,
   "metadata": {},
   "outputs": [
    {
     "name": "stderr",
     "output_type": "stream",
     "text": [
      "C:\\Users\\gualas\\AppData\\Local\\Temp\\ipykernel_21300\\1018588792.py:10: SettingWithCopyWarning: \n",
      "A value is trying to be set on a copy of a slice from a DataFrame\n",
      "\n",
      "See the caveats in the documentation: https://pandas.pydata.org/pandas-docs/stable/user_guide/indexing.html#returning-a-view-versus-a-copy\n",
      "  tabla['duration_int'][i]=a[0]                                       #metodo split(), cada parte de esta division ira a las\n",
      "C:\\Users\\gualas\\AppData\\Local\\Temp\\ipykernel_21300\\1018588792.py:14: SettingWithCopyWarning: \n",
      "A value is trying to be set on a copy of a slice from a DataFrame\n",
      "\n",
      "See the caveats in the documentation: https://pandas.pydata.org/pandas-docs/stable/user_guide/indexing.html#returning-a-view-versus-a-copy\n",
      "  tabla['duration_type'][i]=a[1]                                  #la informacion en cada columna\n",
      "C:\\Users\\gualas\\AppData\\Local\\Temp\\ipykernel_21300\\1018588792.py:10: SettingWithCopyWarning: \n",
      "A value is trying to be set on a copy of a slice from a DataFrame\n",
      "\n",
      "See the caveats in the documentation: https://pandas.pydata.org/pandas-docs/stable/user_guide/indexing.html#returning-a-view-versus-a-copy\n",
      "  tabla['duration_int'][i]=a[0]                                       #metodo split(), cada parte de esta division ira a las\n",
      "C:\\Users\\gualas\\AppData\\Local\\Temp\\ipykernel_21300\\1018588792.py:14: SettingWithCopyWarning: \n",
      "A value is trying to be set on a copy of a slice from a DataFrame\n",
      "\n",
      "See the caveats in the documentation: https://pandas.pydata.org/pandas-docs/stable/user_guide/indexing.html#returning-a-view-versus-a-copy\n",
      "  tabla['duration_type'][i]=a[1]                                  #la informacion en cada columna\n",
      "C:\\Users\\gualas\\AppData\\Local\\Temp\\ipykernel_21300\\1018588792.py:10: SettingWithCopyWarning: \n",
      "A value is trying to be set on a copy of a slice from a DataFrame\n",
      "\n",
      "See the caveats in the documentation: https://pandas.pydata.org/pandas-docs/stable/user_guide/indexing.html#returning-a-view-versus-a-copy\n",
      "  tabla['duration_int'][i]=a[0]                                       #metodo split(), cada parte de esta division ira a las\n",
      "C:\\Users\\gualas\\AppData\\Local\\Temp\\ipykernel_21300\\1018588792.py:14: SettingWithCopyWarning: \n",
      "A value is trying to be set on a copy of a slice from a DataFrame\n",
      "\n",
      "See the caveats in the documentation: https://pandas.pydata.org/pandas-docs/stable/user_guide/indexing.html#returning-a-view-versus-a-copy\n",
      "  tabla['duration_type'][i]=a[1]                                  #la informacion en cada columna\n",
      "C:\\Users\\gualas\\AppData\\Local\\Temp\\ipykernel_21300\\1018588792.py:10: SettingWithCopyWarning: \n",
      "A value is trying to be set on a copy of a slice from a DataFrame\n",
      "\n",
      "See the caveats in the documentation: https://pandas.pydata.org/pandas-docs/stable/user_guide/indexing.html#returning-a-view-versus-a-copy\n",
      "  tabla['duration_int'][i]=a[0]                                       #metodo split(), cada parte de esta division ira a las\n",
      "C:\\Users\\gualas\\AppData\\Local\\Temp\\ipykernel_21300\\1018588792.py:14: SettingWithCopyWarning: \n",
      "A value is trying to be set on a copy of a slice from a DataFrame\n",
      "\n",
      "See the caveats in the documentation: https://pandas.pydata.org/pandas-docs/stable/user_guide/indexing.html#returning-a-view-versus-a-copy\n",
      "  tabla['duration_type'][i]=a[1]                                  #la informacion en cada columna\n"
     ]
    }
   ],
   "source": [
    "duracion(hulu_df)       #Aplicamos nuestra ultima funcion\n",
    "duracion(amazon_df)\n",
    "duracion(disney_df)\n",
    "duracion(netflix_df)\n",
    "minuscula(hulu_df)      #Y por ultimos aplicamos nuestra cuarta funcion para que\n",
    "minuscula(amazon_df)    #todos los datos esten en minuscula\n",
    "minuscula(disney_df)\n",
    "minuscula(netflix_df)"
   ]
  },
  {
   "cell_type": "code",
   "execution_count": 29,
   "metadata": {},
   "outputs": [],
   "source": [
    "#Importamos nuestros dataframes a CSV\n",
    "netflix_df.to_csv('Datasets_Transformados/netflix.csv', index=False)\n",
    "hulu_df.to_csv('Datasets_Transformados/hulu.csv', index=False)\n",
    "amazon_df.to_csv('Datasets_Transformados/amazon.csv', index=False)\n",
    "disney_df.to_csv('Datasets_Transformados/disney.csv', index=False)"
   ]
  }
 ],
 "metadata": {
  "kernelspec": {
   "display_name": "base",
   "language": "python",
   "name": "python3"
  },
  "language_info": {
   "codemirror_mode": {
    "name": "ipython",
    "version": 3
   },
   "file_extension": ".py",
   "mimetype": "text/x-python",
   "name": "python",
   "nbconvert_exporter": "python",
   "pygments_lexer": "ipython3",
   "version": "3.9.12 (main, Apr  4 2022, 05:22:27) [MSC v.1916 64 bit (AMD64)]"
  },
  "orig_nbformat": 4,
  "vscode": {
   "interpreter": {
    "hash": "8c2e6f1f4adc7ae632a81ea71e6b725939e902c17d1e4f07be81139610fd6976"
   }
  }
 },
 "nbformat": 4,
 "nbformat_minor": 2
}
